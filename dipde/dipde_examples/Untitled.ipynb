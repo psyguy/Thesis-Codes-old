{
 "cells": [
  {
   "cell_type": "code",
   "execution_count": null,
   "metadata": {},
   "outputs": [],
   "source": []
  },
  {
   "cell_type": "code",
   "execution_count": 1,
   "metadata": {},
   "outputs": [
    {
     "ename": "ModuleNotFoundError",
     "evalue": "No module named 'utilities'",
     "output_type": "error",
     "traceback": [
      "\u001b[1;31m---------------------------------------------------------------------------\u001b[0m",
      "\u001b[1;31mModuleNotFoundError\u001b[0m                       Traceback (most recent call last)",
      "\u001b[1;32m<ipython-input-1-ad0d289c5b26>\u001b[0m in \u001b[0;36m<module>\u001b[1;34m()\u001b[0m\n\u001b[0;32m     15\u001b[0m \u001b[1;33m\u001b[0m\u001b[0m\n\u001b[0;32m     16\u001b[0m \u001b[1;32mimport\u001b[0m \u001b[0mmatplotlib\u001b[0m\u001b[1;33m.\u001b[0m\u001b[0mpyplot\u001b[0m \u001b[1;32mas\u001b[0m \u001b[0mplt\u001b[0m\u001b[1;33m\u001b[0m\u001b[0m\n\u001b[1;32m---> 17\u001b[1;33m \u001b[1;32mfrom\u001b[0m \u001b[0mdipde\u001b[0m\u001b[1;33m.\u001b[0m\u001b[0minternals\u001b[0m\u001b[1;33m.\u001b[0m\u001b[0minternalpopulation\u001b[0m \u001b[1;32mimport\u001b[0m \u001b[0mInternalPopulation\u001b[0m\u001b[1;33m\u001b[0m\u001b[0m\n\u001b[0m\u001b[0;32m     18\u001b[0m \u001b[1;32mfrom\u001b[0m \u001b[0mdipde\u001b[0m\u001b[1;33m.\u001b[0m\u001b[0minternals\u001b[0m\u001b[1;33m.\u001b[0m\u001b[0mexternalpopulation\u001b[0m \u001b[1;32mimport\u001b[0m \u001b[0mExternalPopulation\u001b[0m\u001b[1;33m\u001b[0m\u001b[0m\n\u001b[0;32m     19\u001b[0m \u001b[1;32mfrom\u001b[0m \u001b[0mdipde\u001b[0m\u001b[1;33m.\u001b[0m\u001b[0minternals\u001b[0m\u001b[1;33m.\u001b[0m\u001b[0msimulation\u001b[0m \u001b[1;32mimport\u001b[0m \u001b[0mSimulation\u001b[0m\u001b[1;33m\u001b[0m\u001b[0m\n",
      "\u001b[1;32m~\\AppData\\Roaming\\Python\\Python36\\site-packages\\dipde\\internals\\__init__.py\u001b[0m in \u001b[0;36m<module>\u001b[1;34m()\u001b[0m\n\u001b[0;32m     14\u001b[0m \u001b[1;31m# along with dipde.  If not, see <http://www.gnu.org/licenses/>.\u001b[0m\u001b[1;33m\u001b[0m\u001b[1;33m\u001b[0m\u001b[0m\n\u001b[0;32m     15\u001b[0m \u001b[1;33m\u001b[0m\u001b[0m\n\u001b[1;32m---> 16\u001b[1;33m \u001b[1;32mimport\u001b[0m \u001b[0mutilities\u001b[0m\u001b[1;33m\u001b[0m\u001b[0m\n\u001b[0m\u001b[0;32m     17\u001b[0m \u001b[1;32mfrom\u001b[0m \u001b[0mconnectiondistribution\u001b[0m \u001b[1;32mimport\u001b[0m \u001b[0mConnectionDistribution\u001b[0m\u001b[1;33m\u001b[0m\u001b[0m\n\u001b[0;32m     18\u001b[0m \u001b[1;32mfrom\u001b[0m \u001b[0mconnection\u001b[0m \u001b[1;32mimport\u001b[0m \u001b[0mConnection\u001b[0m\u001b[1;33m\u001b[0m\u001b[0m\n",
      "\u001b[1;31mModuleNotFoundError\u001b[0m: No module named 'utilities'"
     ]
    }
   ],
   "source": [
    "# Copyright 2013 Allen Institute\n",
    "# This file is part of dipde\n",
    "# dipde is free software: you can redistribute it and/or modify\n",
    "# it under the terms of the GNU General Public License as published by\n",
    "# the Free Software Foundation, either version 3 of the License, or\n",
    "# (at your option) any later version.\n",
    "# \n",
    "# dipde is distributed in the hope that it will be useful,\n",
    "# but WITHOUT ANY WARRANTY; without even the implied warranty of\n",
    "# MERCHANTABILITY or FITNESS FOR A PARTICULAR PURPOSE.  See the\n",
    "# GNU General Public License for more details.\n",
    "# \n",
    "# You should have received a copy of the GNU General Public License\n",
    "# along with dipde.  If not, see <http://www.gnu.org/licenses/>.\n",
    "\n",
    "import matplotlib.pyplot as plt\n",
    "from dipde.internals.internalpopulation import InternalPopulation\n",
    "from dipde.internals.externalpopulation import ExternalPopulation\n",
    "from dipde.internals.simulation import Simulation\n",
    "from dipde.internals.connection import Connection as Connection\n",
    "\n",
    "def get_simulation(dv=.001, verbose=False, update_method='exact', approx_order=None, tol=1e-8):\n",
    "\n",
    "    # Create simulation:\n",
    "    b1 = ExternalPopulation('100')\n",
    "    i1 = InternalPopulation(v_min=-.02, v_max=.02, dv=dv, update_method=update_method, approx_order=approx_order, tol=tol)\n",
    "    b1_i1 = Connection(b1, i1, 1, weights=[.005], probs=[1.], delay=0.0)\n",
    "    b1_i1_2 = Connection(b1, i1, 1, weights=[-.005], probs=[1.], delay=0.0)\n",
    "    simulation = Simulation([b1, i1], [b1_i1, b1_i1_2],  verbose=verbose)\n",
    "    \n",
    "    return simulation\n",
    "\n",
    "\n",
    "def example(show=True, save=False):\n",
    "\n",
    "    # Settings:\n",
    "    t0 = 0.\n",
    "    dt = .0001\n",
    "    dv = .0001\n",
    "    tf = .1\n",
    "    verbose = True\n",
    "    update_method = 'approx'\n",
    "    approx_order = 1\n",
    "    tol = 1e-14\n",
    "    \n",
    "    # Run simulation:\n",
    "    simulation = get_simulation(dv=dv, verbose=verbose, update_method=update_method, approx_order=approx_order, tol=tol)\n",
    "    simulation.run(dt=dt, tf=tf, t0=t0)\n",
    "    \n",
    "    # Visualize:\n",
    "    i1 = simulation.population_list[1]\n",
    "    plt.figure(figsize=(3,3))\n",
    "    plt.plot(i1.t_record, i1.firing_rate_record)\n",
    "    plt.xlim([0,tf])\n",
    "    plt.ylim(ymin=0)\n",
    "    plt.xlabel('Time (s)')\n",
    "    plt.ylabel('Firing Rate (Hz)')\n",
    "    plt.tight_layout()\n",
    "    if save == True: plt.savefig('./excitatory_inhibitory.png')\n",
    "    if show == True: plt.show()\n",
    "    \n",
    "    return i1.t_record, i1.firing_rate_record\n",
    "    \n",
    "if __name__ == \"__main__\": example()        # pragma: no cover"
   ]
  },
  {
   "cell_type": "code",
   "execution_count": null,
   "metadata": {},
   "outputs": [],
   "source": []
  },
  {
   "cell_type": "code",
   "execution_count": null,
   "metadata": {},
   "outputs": [],
   "source": []
  }
 ],
 "metadata": {
  "kernelspec": {
   "display_name": "Python 3",
   "language": "python",
   "name": "python3"
  },
  "language_info": {
   "codemirror_mode": {
    "name": "ipython",
    "version": 3
   },
   "file_extension": ".py",
   "mimetype": "text/x-python",
   "name": "python",
   "nbconvert_exporter": "python",
   "pygments_lexer": "ipython3",
   "version": "3.6.4"
  }
 },
 "nbformat": 4,
 "nbformat_minor": 2
}
