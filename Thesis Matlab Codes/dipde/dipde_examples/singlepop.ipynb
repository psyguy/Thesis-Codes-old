{
 "cells": [
  {
   "cell_type": "code",
   "execution_count": 1,
   "metadata": {},
   "outputs": [
    {
     "ename": "ModuleNotFoundError",
     "evalue": "No module named 'utilities'",
     "output_type": "error",
     "traceback": [
      "\u001b[1;31m---------------------------------------------------------------------------\u001b[0m",
      "\u001b[1;31mModuleNotFoundError\u001b[0m                       Traceback (most recent call last)",
      "\u001b[1;32m<ipython-input-1-f3fe49406116>\u001b[0m in \u001b[0;36m<module>\u001b[1;34m()\u001b[0m\n\u001b[0;32m      1\u001b[0m \u001b[1;32mimport\u001b[0m \u001b[0mmatplotlib\u001b[0m\u001b[1;33m.\u001b[0m\u001b[0mpyplot\u001b[0m \u001b[1;32mas\u001b[0m \u001b[0mplt\u001b[0m\u001b[1;33m\u001b[0m\u001b[0m\n\u001b[1;32m----> 2\u001b[1;33m \u001b[1;32mfrom\u001b[0m \u001b[0mdipde\u001b[0m\u001b[1;33m.\u001b[0m\u001b[0minternals\u001b[0m\u001b[1;33m.\u001b[0m\u001b[0minternalpopulation\u001b[0m \u001b[1;32mimport\u001b[0m \u001b[0mInternalPopulation\u001b[0m\u001b[1;33m\u001b[0m\u001b[0m\n\u001b[0m\u001b[0;32m      3\u001b[0m \u001b[1;32mfrom\u001b[0m \u001b[0mdipde\u001b[0m\u001b[1;33m.\u001b[0m\u001b[0minternals\u001b[0m\u001b[1;33m.\u001b[0m\u001b[0mexternalpopulation\u001b[0m \u001b[1;32mimport\u001b[0m \u001b[0mExternalPopulation\u001b[0m\u001b[1;33m\u001b[0m\u001b[0m\n\u001b[0;32m      4\u001b[0m \u001b[1;32mfrom\u001b[0m \u001b[0mdipde\u001b[0m\u001b[1;33m.\u001b[0m\u001b[0minternals\u001b[0m\u001b[1;33m.\u001b[0m\u001b[0msimulation\u001b[0m \u001b[1;32mimport\u001b[0m \u001b[0mSimulation\u001b[0m\u001b[1;33m\u001b[0m\u001b[0m\n\u001b[0;32m      5\u001b[0m \u001b[1;32mfrom\u001b[0m \u001b[0mdipde\u001b[0m\u001b[1;33m.\u001b[0m\u001b[0minternals\u001b[0m\u001b[1;33m.\u001b[0m\u001b[0mconnection\u001b[0m \u001b[1;32mimport\u001b[0m \u001b[0mConnection\u001b[0m \u001b[1;32mas\u001b[0m \u001b[0mConnection\u001b[0m\u001b[1;33m\u001b[0m\u001b[0m\n",
      "\u001b[1;32m~\\AppData\\Roaming\\Python\\Python36\\site-packages\\dipde\\internals\\__init__.py\u001b[0m in \u001b[0;36m<module>\u001b[1;34m()\u001b[0m\n\u001b[0;32m     14\u001b[0m \u001b[1;31m# along with dipde.  If not, see <http://www.gnu.org/licenses/>.\u001b[0m\u001b[1;33m\u001b[0m\u001b[1;33m\u001b[0m\u001b[0m\n\u001b[0;32m     15\u001b[0m \u001b[1;33m\u001b[0m\u001b[0m\n\u001b[1;32m---> 16\u001b[1;33m \u001b[1;32mimport\u001b[0m \u001b[0mutilities\u001b[0m\u001b[1;33m\u001b[0m\u001b[0m\n\u001b[0m\u001b[0;32m     17\u001b[0m \u001b[1;32mfrom\u001b[0m \u001b[0mconnectiondistribution\u001b[0m \u001b[1;32mimport\u001b[0m \u001b[0mConnectionDistribution\u001b[0m\u001b[1;33m\u001b[0m\u001b[0m\n\u001b[0;32m     18\u001b[0m \u001b[1;32mfrom\u001b[0m \u001b[0mconnection\u001b[0m \u001b[1;32mimport\u001b[0m \u001b[0mConnection\u001b[0m\u001b[1;33m\u001b[0m\u001b[0m\n",
      "\u001b[1;31mModuleNotFoundError\u001b[0m: No module named 'utilities'"
     ]
    }
   ],
   "source": [
    "import matplotlib.pyplot as plt\n",
    "from dipde.internals.internalpopulation import InternalPopulation\n",
    "from dipde.internals.externalpopulation import ExternalPopulation\n",
    "from dipde.internals.simulation import Simulation\n",
    "from dipde.internals.connection import Connection as Connection\n",
    "%matplotlib inline"
   ]
  },
  {
   "cell_type": "code",
   "execution_count": 13,
   "metadata": {
    "collapsed": true
   },
   "outputs": [],
   "source": [
    "# Settings:\n",
    "t0 = 0.\n",
    "dt = .0001\n",
    "dv = .0001\n",
    "tf = .1\n",
    "tol = 1e-14\n",
    "verbose = False"
   ]
  },
  {
   "cell_type": "code",
   "execution_count": 14,
   "metadata": {},
   "outputs": [],
   "source": [
    "# Create and run simulation:\n",
    "b1 = ExternalPopulation('100', record=True)\n",
    "i1 = InternalPopulation(v_min=0, v_max=.02, dv=dv, tol=tol)\n",
    "b1_i1 = Connection(b1, i1, 1, weights=[.005], probs=[1.], delay=0.0)\n",
    "simulation = Simulation([b1, i1], [b1_i1], verbose=verbose)\n",
    "simulation.run()"
   ]
  },
  {
   "cell_type": "code",
   "execution_count": 15,
   "metadata": {},
   "outputs": [
    {
     "data": {
      "text/plain": [
       "<matplotlib.text.Text at 0x106d69b50>"
      ]
     },
     "execution_count": 15,
     "metadata": {},
     "output_type": "execute_result"
    },
    {
     "data": {
      "image/png": "[encoded data removed]",
      "text/plain": [
       "<matplotlib.figure.Figure at 0x10bcc0ad0>"
      ]
     },
     "metadata": {},
     "output_type": "display_data"
    }
   ],
   "source": [
    "# Visualize:\n",
    "i1 = simulation.population_list[1]\n",
    "plt.figure(figsize=(3,3))\n",
    "plt.plot(i1.t_record, i1.firing_rate_record)\n",
    "plt.xlim([0,tf])\n",
    "plt.ylim(ymin=0)\n",
    "plt.xlabel('Time (s)')\n",
    "plt.ylabel('Firing Rate (Hz)')"
   ]
  },
  {
   "cell_type": "code",
   "execution_count": null,
   "metadata": {
    "collapsed": true
   },
   "outputs": [],
   "source": []
  }
 ],
 "metadata": {
  "kernelspec": {
   "display_name": "Python 3",
   "language": "python",
   "name": "python3"
  },
  "language_info": {
   "codemirror_mode": {
    "name": "ipython",
    "version": 3
   },
   "file_extension": ".py",
   "mimetype": "text/x-python",
   "name": "python",
   "nbconvert_exporter": "python",
   "pygments_lexer": "ipython3",
   "version": "3.6.4"
  }
 },
 "nbformat": 4,
 "nbformat_minor": 1
}
